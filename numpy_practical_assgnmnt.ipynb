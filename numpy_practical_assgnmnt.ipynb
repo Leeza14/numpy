{
 "cells": [
  {
   "cell_type": "markdown",
   "id": "dcd71343-5958-48d2-a1e4-68a0441c29ad",
   "metadata": {},
   "source": [
    "## Q1. Create a 3x3 NumPy array with random integers between 1 and 100. Then interchange its rows and columns."
   ]
  },
  {
   "cell_type": "code",
   "execution_count": 18,
   "id": "63a6d42f-2154-4e9a-b449-b149a51df846",
   "metadata": {},
   "outputs": [
    {
     "name": "stdout",
     "output_type": "stream",
     "text": [
      "Original 3x3 Array:\n",
      "[[84 50 85]\n",
      " [26  2 43]\n",
      " [54 12 34]]\n",
      "\n",
      "Transposed Array (Interchanged Rows and Columns):\n",
      "[[84 26 54]\n",
      " [50  2 12]\n",
      " [85 43 34]]\n"
     ]
    }
   ],
   "source": [
    "import numpy as np\n",
    "\n",
    "# Create a 3x3 array with random integers between 1 and 100\n",
    "array_3x3 = np.random.randint(1, 101, size=(3, 3))\n",
    "\n",
    "# Interchange rows and columns (transpose the array)\n",
    "transposed_array = array_3x3.T\n",
    "\n",
    "# Output the results\n",
    "print(\"Original 3x3 Array:\")\n",
    "print(array_3x3)\n",
    "print(\"\\nTransposed Array (Interchanged Rows and Columns):\")\n",
    "print(transposed_array)"
   ]
  },
  {
   "cell_type": "markdown",
   "id": "a27f82f9-b982-4c7e-b377-7e3ae15a5ce4",
   "metadata": {},
   "source": [
    "## Q2.  Generate a 1D NumPy array with 10 elements. Reshape it into a 2x5 array, then into a 5x2 array."
   ]
  },
  {
   "cell_type": "code",
   "execution_count": 6,
   "id": "251e0e0e-9de9-4c00-acd8-a3b404053e79",
   "metadata": {},
   "outputs": [
    {
     "name": "stdout",
     "output_type": "stream",
     "text": [
      "1D Array:\n",
      "[0 1 2 3 4 5 6 7 8 9]\n",
      "\n",
      "2x5 Array:\n",
      "[[0 1 2 3 4]\n",
      " [5 6 7 8 9]]\n",
      "\n",
      "5x2 Array:\n",
      "[[0 1]\n",
      " [2 3]\n",
      " [4 5]\n",
      " [6 7]\n",
      " [8 9]]\n"
     ]
    }
   ],
   "source": [
    "import numpy as np\n",
    "\n",
    "# Generate a 1D array with 10 elements\n",
    "array_1d = np.arange(10)  # or np.random.rand(10) for random values\n",
    "\n",
    "# Reshape it into a 2x5 array\n",
    "array_2x5 = array_1d.reshape(2, 5)\n",
    "\n",
    "# Reshape it into a 5x2 array\n",
    "array_5x2 = array_2x5.reshape(5, 2)\n",
    "\n",
    "# Output the arrays\n",
    "print(\"1D Array:\")\n",
    "print(array_1d)\n",
    "print(\"\\n2x5 Array:\")\n",
    "print(array_2x5)\n",
    "print(\"\\n5x2 Array:\")\n",
    "print(array_5x2)"
   ]
  },
  {
   "cell_type": "markdown",
   "id": "52ee2992-1268-41f1-9860-3c22e98903c1",
   "metadata": {},
   "source": [
    "# Q3. Create a 4x4 NumPy array with random float values. Add a border of zeros around it, resulting in a 6x6 array."
   ]
  },
  {
   "cell_type": "code",
   "execution_count": 7,
   "id": "68ccb92e-cb6f-4ef2-8fd4-2162a9c04133",
   "metadata": {},
   "outputs": [
    {
     "name": "stdout",
     "output_type": "stream",
     "text": [
      "4x4 Array with Random Floats:\n",
      "[[0.01950998 0.69985779 0.37021267 0.29449858]\n",
      " [0.34296631 0.78186023 0.25438893 0.07035326]\n",
      " [0.43480346 0.99503756 0.68162156 0.33739233]\n",
      " [0.75724248 0.48922632 0.87994274 0.74433565]]\n",
      "\n",
      "6x6 Array with Border of Zeros:\n",
      "[[0.         0.         0.         0.         0.         0.        ]\n",
      " [0.         0.01950998 0.69985779 0.37021267 0.29449858 0.        ]\n",
      " [0.         0.34296631 0.78186023 0.25438893 0.07035326 0.        ]\n",
      " [0.         0.43480346 0.99503756 0.68162156 0.33739233 0.        ]\n",
      " [0.         0.75724248 0.48922632 0.87994274 0.74433565 0.        ]\n",
      " [0.         0.         0.         0.         0.         0.        ]]\n"
     ]
    }
   ],
   "source": [
    "import numpy as np\n",
    "\n",
    "# Create a 4x4 array with random float values\n",
    "array_4x4 = np.random.rand(4, 4)\n",
    "\n",
    "# Add a border of zeros around it\n",
    "array_6x6 = np.pad(array_4x4, pad_width=1, mode='constant', constant_values=0)\n",
    "\n",
    "# Output the arrays\n",
    "print(\"4x4 Array with Random Floats:\")\n",
    "print(array_4x4)\n",
    "print(\"\\n6x6 Array with Border of Zeros:\")\n",
    "print(array_6x6)"
   ]
  },
  {
   "cell_type": "markdown",
   "id": "e91e2246-6034-4948-89bd-753e6ca88eb5",
   "metadata": {},
   "source": [
    "## Q4.  Using NumPy, create an array of integers from 10 to 60 with a step of 5."
   ]
  },
  {
   "cell_type": "code",
   "execution_count": 8,
   "id": "f17f1e74-c452-4f38-a5ef-94604d38ac7e",
   "metadata": {},
   "outputs": [
    {
     "name": "stdout",
     "output_type": "stream",
     "text": [
      "[10 15 20 25 30 35 40 45 50 55 60]\n"
     ]
    }
   ],
   "source": [
    "import numpy as np\n",
    "\n",
    "# Create an array of integers from 10 to 60 with a step of 5\n",
    "array_integers = np.arange(10, 61, 5)\n",
    "\n",
    "# Output the array\n",
    "print(array_integers)"
   ]
  },
  {
   "cell_type": "markdown",
   "id": "6670be3b-5615-4756-a3c7-a9dc78856c51",
   "metadata": {},
   "source": [
    "## Q5. Create a NumPy array of strings ['python', 'numpy', 'pandas']. Apply different case transformations \n",
    "(uppercase, lowercase, title case, etc.) to each element."
   ]
  },
  {
   "cell_type": "code",
   "execution_count": 9,
   "id": "ad256bcc-b5e5-4632-b66e-ead28dd3ef3c",
   "metadata": {},
   "outputs": [
    {
     "name": "stdout",
     "output_type": "stream",
     "text": [
      "Original Array:\n",
      "['python' 'numpy' 'pandas']\n",
      "\n",
      "Uppercase:\n",
      "['PYTHON' 'NUMPY' 'PANDAS']\n",
      "\n",
      "Lowercase:\n",
      "['python' 'numpy' 'pandas']\n",
      "\n",
      "Title Case:\n",
      "['Python' 'Numpy' 'Pandas']\n",
      "\n",
      "Capitalize:\n",
      "['Python' 'Numpy' 'Pandas']\n"
     ]
    }
   ],
   "source": [
    "import numpy as np\n",
    "\n",
    "# Create a NumPy array of strings\n",
    "array_strings = np.array(['python', 'numpy', 'pandas'])\n",
    "\n",
    "# Apply different case transformations\n",
    "uppercase = np.char.upper(array_strings)\n",
    "lowercase = np.char.lower(array_strings)\n",
    "titlecase = np.char.title(array_strings)\n",
    "capitalize = np.char.capitalize(array_strings)\n",
    "\n",
    "# Output the transformed arrays\n",
    "print(\"Original Array:\")\n",
    "print(array_strings)\n",
    "print(\"\\nUppercase:\")\n",
    "print(uppercase)\n",
    "print(\"\\nLowercase:\")\n",
    "print(lowercase)\n",
    "print(\"\\nTitle Case:\")\n",
    "print(titlecase)\n",
    "print(\"\\nCapitalize:\")\n",
    "print(capitalize)"
   ]
  },
  {
   "cell_type": "markdown",
   "id": "a26871b9-e647-43f2-9122-20dbf106e6a6",
   "metadata": {},
   "source": [
    "## Q6.  Generate a NumPy array of words. Insert a space between each character of every word in the array."
   ]
  },
  {
   "cell_type": "code",
   "execution_count": 10,
   "id": "97fb6c65-6c7a-40d0-b012-6c128af29b4d",
   "metadata": {},
   "outputs": [
    {
     "name": "stdout",
     "output_type": "stream",
     "text": [
      "Original Array:\n",
      "['hello' 'world' 'numpy' 'python']\n",
      "\n",
      "Array with Spaces Between Characters:\n",
      "['h e l l o' 'w o r l d' 'n u m p y' 'p y t h o n']\n"
     ]
    }
   ],
   "source": [
    "import numpy as np\n",
    "\n",
    "# Create a NumPy array of words\n",
    "array_words = np.array(['hello', 'world', 'numpy', 'python'])\n",
    "\n",
    "# Insert a space between each character of every word\n",
    "spaced_words = np.char.join(' ', array_words)\n",
    "\n",
    "# Output the transformed array\n",
    "print(\"Original Array:\")\n",
    "print(array_words)\n",
    "print(\"\\nArray with Spaces Between Characters:\")\n",
    "print(spaced_words)"
   ]
  },
  {
   "cell_type": "markdown",
   "id": "cd34d496-578f-4610-8445-8cb8e557ab2b",
   "metadata": {},
   "source": [
    "## Q7. Create two 2D NumPy arrays and perform element-wise addition, subtraction, multiplication, and division."
   ]
  },
  {
   "cell_type": "code",
   "execution_count": 11,
   "id": "db4bab2b-b4e5-41fd-b8a6-6a5182419b7f",
   "metadata": {},
   "outputs": [
    {
     "name": "stdout",
     "output_type": "stream",
     "text": [
      "Array 1:\n",
      "[[1 2 3]\n",
      " [4 5 6]]\n",
      "\n",
      "Array 2:\n",
      "[[10 20 30]\n",
      " [40 50 60]]\n",
      "\n",
      "Element-wise Addition:\n",
      "[[11 22 33]\n",
      " [44 55 66]]\n",
      "\n",
      "Element-wise Subtraction:\n",
      "[[ -9 -18 -27]\n",
      " [-36 -45 -54]]\n",
      "\n",
      "Element-wise Multiplication:\n",
      "[[ 10  40  90]\n",
      " [160 250 360]]\n",
      "\n",
      "Element-wise Division:\n",
      "[[0.1 0.1 0.1]\n",
      " [0.1 0.1 0.1]]\n"
     ]
    }
   ],
   "source": [
    "import numpy as np\n",
    "\n",
    "# Create two 2D NumPy arrays\n",
    "array1 = np.array([[1, 2, 3], [4, 5, 6]])\n",
    "array2 = np.array([[10, 20, 30], [40, 50, 60]])\n",
    "\n",
    "# Perform element-wise addition\n",
    "addition = array1 + array2\n",
    "\n",
    "# Perform element-wise subtraction\n",
    "subtraction = array1 - array2\n",
    "\n",
    "# Perform element-wise multiplication\n",
    "multiplication = array1 * array2\n",
    "\n",
    "# Perform element-wise division\n",
    "division = array1 / array2\n",
    "\n",
    "# Output the results\n",
    "print(\"Array 1:\")\n",
    "print(array1)\n",
    "print(\"\\nArray 2:\")\n",
    "print(array2)\n",
    "print(\"\\nElement-wise Addition:\")\n",
    "print(addition)\n",
    "print(\"\\nElement-wise Subtraction:\")\n",
    "print(subtraction)\n",
    "print(\"\\nElement-wise Multiplication:\")\n",
    "print(multiplication)\n",
    "print(\"\\nElement-wise Division:\")\n",
    "print(division)"
   ]
  },
  {
   "cell_type": "markdown",
   "id": "aec51068-89a2-4502-a525-a10c805694f5",
   "metadata": {},
   "source": [
    "## Q8. Use NumPy to create a 5x5 identity matrix, then extract its diagonal elements."
   ]
  },
  {
   "cell_type": "code",
   "execution_count": 12,
   "id": "ea10ed17-d43f-4b0a-8897-aa3ecdde0c92",
   "metadata": {},
   "outputs": [
    {
     "name": "stdout",
     "output_type": "stream",
     "text": [
      "5x5 Identity Matrix:\n",
      "[[1. 0. 0. 0. 0.]\n",
      " [0. 1. 0. 0. 0.]\n",
      " [0. 0. 1. 0. 0.]\n",
      " [0. 0. 0. 1. 0.]\n",
      " [0. 0. 0. 0. 1.]]\n",
      "\n",
      "Diagonal Elements:\n",
      "[1. 1. 1. 1. 1.]\n"
     ]
    }
   ],
   "source": [
    "import numpy as np\n",
    "\n",
    "# Create a 5x5 identity matrix\n",
    "identity_matrix = np.eye(5)\n",
    "\n",
    "# Extract the diagonal elements\n",
    "diagonal_elements = np.diagonal(identity_matrix)\n",
    "\n",
    "# Output the results\n",
    "print(\"5x5 Identity Matrix:\")\n",
    "print(identity_matrix)\n",
    "print(\"\\nDiagonal Elements:\")\n",
    "print(diagonal_elements)"
   ]
  },
  {
   "cell_type": "markdown",
   "id": "7a168a8b-9366-43ce-9783-f6a854c17228",
   "metadata": {},
   "source": [
    "## Q9.Generate a NumPy array of 100 random integers between 0 and 1000. Find and display all prime number in this array."
   ]
  },
  {
   "cell_type": "code",
   "execution_count": 13,
   "id": "926c6233-ba12-493b-be47-c1cd979434e6",
   "metadata": {},
   "outputs": [
    {
     "name": "stdout",
     "output_type": "stream",
     "text": [
      "Random Integers Array:\n",
      "[ 56  99 885  16 469 314 888 509 257 265 713 467 999 101 482 284 310 100\n",
      "   1 392 282 186 404 151 849 545 623 721 895   5 871 391 602 738 876 622\n",
      " 206  49 776 933 417 766 359 387 171 250 965 223 909 366 431 554   7  20\n",
      " 837 315 401 566 104 752 470 328 801 106 388 478 154 254 317 586 392  36\n",
      " 452 151 762 632 133 211 386  83 327 701 191 990  87 227 991 826 400 158\n",
      " 593  72 274  99 791 331 622 263 910 739]\n",
      "\n",
      "Prime Numbers in the Array:\n",
      "[509, 257, 467, 101, 151, 5, 359, 223, 431, 7, 401, 317, 151, 211, 83, 701, 191, 227, 991, 593, 331, 263, 739]\n"
     ]
    }
   ],
   "source": [
    "import numpy as np\n",
    "\n",
    "# Function to check if a number is prime\n",
    "def is_prime(num):\n",
    "    if num < 2:\n",
    "        return False\n",
    "    for i in range(2, int(num**0.5) + 1):\n",
    "        if num % i == 0:\n",
    "            return False\n",
    "    return True\n",
    "\n",
    "# Generate a NumPy array of 100 random integers between 0 and 1000\n",
    "random_integers = np.random.randint(0, 1001, size=100)\n",
    "\n",
    "# Find all prime numbers in the array\n",
    "prime_numbers = [num for num in random_integers if is_prime(num)]\n",
    "\n",
    "# Output the results\n",
    "print(\"Random Integers Array:\")\n",
    "print(random_integers)\n",
    "print(\"\\nPrime Numbers in the Array:\")\n",
    "print(prime_numbers)"
   ]
  },
  {
   "cell_type": "markdown",
   "id": "9254b52f-023c-458c-8470-01ccc4fe2c1d",
   "metadata": {},
   "source": [
    "## Q10. Create a NumPy array representing daily temperatures for a month. Calculate and display the weekly averages.s"
   ]
  },
  {
   "cell_type": "code",
   "execution_count": 17,
   "id": "54602b63-87ec-454c-8af5-21d8d940a6d3",
   "metadata": {},
   "outputs": [
    {
     "name": "stdout",
     "output_type": "stream",
     "text": [
      "Daily Temperatures for the Month:\n",
      "[ 8 67 91  9 43 19 43 26 14 77 93  2 83 53 14 55 25 15 52  4 88 69 18 13\n",
      " 98 51 61 30 68 87]\n",
      "\n",
      "Weekly Temperatures (4 weeks):\n",
      "[[ 8 67 91]\n",
      " [ 9 43 19]\n",
      " [43 26 14]\n",
      " [77 93  2]\n",
      " [83 53 14]\n",
      " [55 25 15]\n",
      " [52  4 88]\n",
      " [69 18 13]\n",
      " [98 51 61]\n",
      " [30 68 87]]\n",
      "\n",
      "Weekly Averages:\n",
      "[55.33333333 23.66666667 27.66666667 57.33333333 50.         31.66666667\n",
      " 48.         33.33333333 70.         61.66666667]\n"
     ]
    }
   ],
   "source": [
    "import numpy as np\n",
    "\n",
    "# Create a NumPy array representing daily temperatures for a month (30 days)\n",
    "# For example, let's generate random temperatures between 0 and 100\n",
    "daily_temperatures = np.random.randint(0, 101, size=30)\n",
    "\n",
    "# Reshape the array to represent weeks (4 weeks and 2 extra days)\n",
    "weekly_temperatures = daily_temperatures.reshape(10, 3)\n",
    "\n",
    "# Calculate weekly averages\n",
    "weekly_averages = np.mean(weekly_temperatures, axis=1)\n",
    "\n",
    "# Output the results\n",
    "print(\"Daily Temperatures for the Month:\")\n",
    "print(daily_temperatures)\n",
    "print(\"\\nWeekly Temperatures (4 weeks):\")\n",
    "print(weekly_temperatures)\n",
    "print(\"\\nWeekly Averages:\")\n",
    "print(weekly_averages)"
   ]
  },
  {
   "cell_type": "code",
   "execution_count": null,
   "id": "01b92b8e-fbb0-4642-89cf-a8a9bc6a2dc7",
   "metadata": {},
   "outputs": [],
   "source": []
  }
 ],
 "metadata": {
  "kernelspec": {
   "display_name": "Python 3 (ipykernel)",
   "language": "python",
   "name": "python3"
  },
  "language_info": {
   "codemirror_mode": {
    "name": "ipython",
    "version": 3
   },
   "file_extension": ".py",
   "mimetype": "text/x-python",
   "name": "python",
   "nbconvert_exporter": "python",
   "pygments_lexer": "ipython3",
   "version": "3.12.4"
  }
 },
 "nbformat": 4,
 "nbformat_minor": 5
}
